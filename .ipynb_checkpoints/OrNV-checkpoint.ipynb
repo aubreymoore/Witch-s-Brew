{
 "cells": [
  {
   "cell_type": "code",
   "execution_count": 1,
   "metadata": {
    "collapsed": false
   },
   "outputs": [],
   "source": [
    "%matplotlib inline\n",
    "\n",
    "from __future__ import division\n",
    "import numpy as np\n",
    "from matplotlib import pyplot as plt\n",
    "import seaborn as sns # improves appearance of matplotlib\n",
    "import datetime\n",
    "from scipy.stats import fisher_exact\n",
    "\n",
    "sns.set_style('darkgrid')"
   ]
  },
  {
   "cell_type": "code",
   "execution_count": 2,
   "metadata": {
    "collapsed": true
   },
   "outputs": [],
   "source": [
    "def adjusted_mortality(p_exp, p_con):\n",
    "    \"\"\"\n",
    "    Treatment group mortality (p_exp) adjusted for experimental control group mortality (p_con)\n",
    "    using Abbott's formula.\n",
    "    \"\"\"\n",
    "    return ((p_exp - p_con) / (1.0 - p_con))"
   ]
  },
  {
   "cell_type": "markdown",
   "metadata": {},
   "source": [
    "## Here are the data with some simple calculations"
   ]
  },
  {
   "cell_type": "code",
   "execution_count": 3,
   "metadata": {
    "collapsed": false
   },
   "outputs": [
    {
     "data": {
      "text/plain": [
       "[0.0, 0.125, 0.075, 0.15, 0.125, 0.125, 0.05, 0.125]"
      ]
     },
     "execution_count": 3,
     "metadata": {},
     "output_type": "execute_result"
    }
   ],
   "source": [
    "obs_dates = ['2015-01-22', '2015-01-29', '2015-02-06', '2015-02-14', '2015-02-20', '2015-02-27', '2015-04-03', \n",
    "             '2015-04-10']\n",
    "obs_dates = [datetime.datetime.strptime(x, \"%Y-%m-%d\") for x in obs_dates]\n",
    "virus_total = 40\n",
    "control_total = 41\n",
    "grubs_total = 10\n",
    "virus_mortality = [0, 5, 3, 6, 5, 5, 2, 5]\n",
    "control_mortality = [0, 2, 2, 3, 4, 1, 5, 5]\n",
    "grub_mortality = [0, 0, 1, 2, 3, 0, 0, 0]\n",
    "virus_mortality_p = [x/virus_total for x in virus_mortality]\n",
    "control_mortality_p = [x/control_total for x in control_mortality]\n",
    "virus_mortality_p"
   ]
  },
  {
   "cell_type": "markdown",
   "metadata": {},
   "source": [
    "## Perform the Fisher's exact test to see if mortality of virus treated beetles is significantly different from that of the control beetles"
   ]
  },
  {
   "cell_type": "code",
   "execution_count": 4,
   "metadata": {
    "collapsed": false
   },
   "outputs": [],
   "source": [
    "def fishers_test(virus_dead, virus_alive, control_dead, control_alive):\n",
    "    oddsratio, pvalue = fisher_exact([[virus_dead, virus_alive], [control_dead, control_alive]], alternative='greater')\n",
    "    msg = '''\n",
    "    Mortality of virus-treated beetles (%.2f) is significantly greater than that of control beetles (%.2f);\n",
    "    p = %.4f; Fisher's exact test.\n",
    "    ''' % (virus_dead/virus_total, control_dead/control_total, pvalue)\n",
    "    return msg"
   ]
  },
  {
   "cell_type": "code",
   "execution_count": 5,
   "metadata": {
    "collapsed": false
   },
   "outputs": [
    {
     "data": {
      "text/plain": [
       "\"\\n    Mortality of virus-treated beetles (0.78) is significantly greater than that of control beetles (0.54);\\n    p = 0.0211; Fisher's exact test.\\n    \""
      ]
     },
     "execution_count": 5,
     "metadata": {},
     "output_type": "execute_result"
    }
   ],
   "source": [
    "virus_dead = sum(virus_mortality)\n",
    "virus_alive = virus_total - virus_dead\n",
    "control_dead = sum(control_mortality)\n",
    "control_alive = control_total - control_dead\n",
    "fishers_test(virus_dead, virus_alive, control_dead, control_alive)"
   ]
  },
  {
   "cell_type": "code",
   "execution_count": 6,
   "metadata": {
    "collapsed": false
   },
   "outputs": [
    {
     "data": {
      "text/plain": [
       "0.5144736842105263"
      ]
     },
     "execution_count": 6,
     "metadata": {},
     "output_type": "execute_result"
    }
   ],
   "source": [
    "adjusted_virus_mortality = adjusted_mortality(virus_dead/virus_total, control_dead/control_total)\n",
    "adjusted_virus_mortality"
   ]
  },
  {
   "cell_type": "markdown",
   "metadata": {},
   "source": [
    "### Remove the 8 virus-treated and 4 control beetles that died within 14 days from the experiment and retest:"
   ]
  },
  {
   "cell_type": "code",
   "execution_count": 7,
   "metadata": {
    "collapsed": false
   },
   "outputs": [
    {
     "data": {
      "text/plain": [
       "\"\\n    Mortality of virus-treated beetles (0.57) is significantly greater than that of control beetles (0.44);\\n    p = 0.0005; Fisher's exact test.\\n    \""
      ]
     },
     "execution_count": 7,
     "metadata": {},
     "output_type": "execute_result"
    }
   ],
   "source": [
    "fishers_test(virus_dead-8, virus_alive-8, control_dead-4, control_alive-4)"
   ]
  },
  {
   "cell_type": "markdown",
   "metadata": {},
   "source": [
    "## Plot cumulative mortality and save in a PDF file"
   ]
  },
  {
   "cell_type": "raw",
   "metadata": {
    "collapsed": false
   },
   "source": [
    "plt.plot(obs_dates, np.cumsum(virus_mortality_p), label='virus', color='red')\n",
    "plt.plot(obs_dates, np.cumsum(control_mortality_p), label='control', color='green')\n",
    "plt.ylim(0,1)\n",
    "plt.ylabel('proportion dead')\n",
    "plt.xlabel('observation date')\n",
    "plt.legend();\n",
    "plt.savefig('mortality.pdf')"
   ]
  },
  {
   "cell_type": "code",
   "execution_count": 8,
   "metadata": {
    "collapsed": false
   },
   "outputs": [
    {
     "data": {
      "image/png": "[encoded data removed]",
      "text/plain": [
       "<matplotlib.figure.Figure at 0x7fbbb6128450>"
      ]
     },
     "metadata": {},
     "output_type": "display_data"
    }
   ],
   "source": [
    "fig, ax = plt.subplots(1)\n",
    "#ax.plot(r.date, r.close)\n",
    "ax.plot(obs_dates, np.cumsum(virus_mortality_p), label='virus', color='red')\n",
    "ax.plot(obs_dates, np.cumsum(control_mortality_p), label='control', color='green')\n",
    "\n",
    "# rotate and align the tick labels so they look better\n",
    "fig.autofmt_xdate()\n",
    "import matplotlib.dates as mdates\n",
    "ax.fmt_xdata = mdates.DateFormatter('%Y-%m-%d')\n",
    "ax.set_ylim(0,1)\n",
    "ax.legend()\n",
    "ax.set_ylabel('proportion dead')\n",
    "ax.set_xlabel('observation date')\n",
    "fig.savefig('wb1_mortality.pdf')"
   ]
  },
  {
   "cell_type": "markdown",
   "metadata": {},
   "source": [
    "## Write the Technical Report using Latex markup and save to a file"
   ]
  },
  {
   "cell_type": "code",
   "execution_count": 9,
   "metadata": {
    "collapsed": false
   },
   "outputs": [
    {
     "name": "stdout",
     "output_type": "stream",
     "text": [
      "Overwriting wb1.tex\n"
     ]
    }
   ],
   "source": [
    "%%writefile wb1.tex\n",
    "\n",
    "\\documentclass[letterpaper,11pt]{scrartcl}\n",
    "\\usepackage{graphicx}\n",
    "\\usepackage{fullpage}\n",
    "\n",
    "\\titlehead{Guam Coconut Rhinoceros Project Technical Report}\n",
    "\\title{OrNV Witch's Brew Experiment 1: A Last Ditch Attempt to Find Virus Pathogenetic for the Guam Coconut\n",
    "Rhinoceros Beetle Genotype}\n",
    "\\author{Aubrey Moore, Ian Iriarte and Roland Quitugua}\n",
    "\n",
    "\\begin{document}\n",
    "\n",
    "\\maketitle\n",
    "\n",
    "\\begin{abstract}\n",
    "Bioassays of several isolates of Oryctes nudivirus provided by AgriResearch New Zealand failed to result in \n",
    "significant pathogenicity for the Guam CRB genotype. In a 'last ditch' attempt we made a 'witches brew' slurry \n",
    "containing all frozen dead beetles from previous bioassays plus frozen virus samples in vials. Forty \n",
    "adult beetles were forced to swim in the slurry for 30 minutes on January 22, 2015. A control group of\n",
    "41 beetles were forced to swim in water. Beetles were checked weekly.\n",
    "\n",
    "By April 10, 2015, mortality of the virus treated beetles (78\\%) was significantly greater than that of the\n",
    "control group (54\\%). Treatment mortality corrected for experimental control mortality by Abbott's \n",
    "formula was 51\\%.\n",
    "\\end{abstract}\n",
    "\n",
    "\\section*{Methods}\n",
    "\n",
    "Frozen, dead beetles from previous bioassays were added to one liter of water and made into an aqueous slurry\n",
    "using a blender. Vials containing remnants of virus samples from AgResearch New Zealand were agitated in 500 ml of \n",
    "water, and this suspension was added to the blender. The slurry was poured into a small pail and\n",
    "forty beetles were made to swim in this for thirty minutes. A control group of beetles was made to swim in water for \n",
    "thirty minutes.\n",
    "\n",
    "Beetles were kept in a large container filled with moist, commercially blended steer manure and soil. \n",
    "All beetles were checked weekly. Dead beetles were recorded and frozen.\n",
    "\n",
    "\\section*{Analysis}\n",
    "\n",
    "Data were analyzed using an IPython notebook (file name = 'OrNV.ipynb'). Significance of differences in mortality\n",
    "were determined using a Fisher's exact test, and final mortality was adjusted using Abbott's formula.\n",
    "\n",
    "\\section*{Results and Discussion}\n",
    "\n",
    "Cumulative mortality of virus-treated beetles (78\\%) on April 10 (Fig. \\ref{mortality}) was significantly greater than that of \n",
    "control beetles (54\\%); (p = 0.0005; Fisher's exact test). Treatment mortality corrected for experimental control mortality by Abbott's \n",
    "formula was 51\\%.\n",
    "\n",
    "% FIGURES HERE \n",
    "%%%%%%%%%%%%%%\n",
    " \n",
    "\\begin{figure}\n",
    "\\centering\n",
    "\\includegraphics[width = \\textwidth]{wb1_mortality.pdf}\n",
    "\\caption{Cumulative mortality.}\n",
    "\\label{mortality}\n",
    "\\end{figure} \n",
    " \n",
    "% END OF FIGURES\n",
    "%%%%%%%%%%%%%%%%\n",
    " \n",
    "%\\nocite{PER-GRA_2007}\n",
    "%\\bibliographystyle{unsrt}\n",
    "%\\bibliography{ref}\n",
    "\n",
    "\\end{document}"
   ]
  },
  {
   "cell_type": "markdown",
   "metadata": {},
   "source": [
    "## Generate a PDF version of the Tech Report and display it"
   ]
  },
  {
   "cell_type": "code",
   "execution_count": 10,
   "metadata": {
    "collapsed": false
   },
   "outputs": [
    {
     "name": "stdout",
     "output_type": "stream",
     "text": [
      "This is pdfTeX, Version 3.1415926-2.5-1.40.14 (TeX Live 2013)\n",
      " restricted \\write18 enabled.\n",
      "entering extended mode\n",
      "(./wb1.tex\n",
      "LaTeX2e <2011/06/27>\n",
      "Babel <3.9k> and hyphenation patterns for 78 languages loaded.\n",
      "(/usr/local/texlive/2013/texmf-dist/tex/latex/koma-script/scrartcl.cls\n",
      "Document Class: scrartcl 2013/12/19 v3.12 KOMA-Script document class (article)\n",
      "(/usr/local/texlive/2013/texmf-dist/tex/latex/koma-script/scrkbase.sty\n",
      "(/usr/local/texlive/2013/texmf-dist/tex/latex/koma-script/scrbase.sty\n",
      "(/usr/local/texlive/2013/texmf-dist/tex/latex/graphics/keyval.sty)\n",
      "(/usr/local/texlive/2013/texmf-dist/tex/latex/koma-script/scrlfile.sty\n",
      "Package scrlfile, 2013/12/19 v3.12 KOMA-Script package (loading files)\n",
      "                  Copyright (C) Markus Kohm\n",
      "\n",
      "))) (/usr/local/texlive/2013/texmf-dist/tex/latex/koma-script/tocbasic.sty)\n",
      "(/usr/local/texlive/2013/texmf-dist/tex/latex/koma-script/scrsize11pt.clo)\n",
      "(/usr/local/texlive/2013/texmf-dist/tex/latex/koma-script/typearea.sty\n",
      "Package typearea, 2013/12/19 v3.12 KOMA-Script package (type area)\n",
      "                  Copyright (C) Frank Neukam, 1992-1994\n",
      "                  Copyright (C) Markus Kohm, 1994-\n",
      "\n",
      ")) (/usr/local/texlive/2013/texmf-dist/tex/latex/graphics/graphicx.sty\n",
      "(/usr/local/texlive/2013/texmf-dist/tex/latex/graphics/graphics.sty\n",
      "(/usr/local/texlive/2013/texmf-dist/tex/latex/graphics/trig.sty)\n",
      "(/usr/local/texlive/2013/texmf-dist/tex/latex/latexconfig/graphics.cfg)\n",
      "(/usr/local/texlive/2013/texmf-dist/tex/latex/pdftex-def/pdftex.def\n",
      "(/usr/local/texlive/2013/texmf-dist/tex/generic/oberdiek/infwarerr.sty)\n",
      "(/usr/local/texlive/2013/texmf-dist/tex/generic/oberdiek/ltxcmds.sty))))\n",
      "(/usr/local/texlive/2013/texmf-dist/tex/latex/preprint/fullpage.sty) (./wb1.aux\n",
      ") (/usr/local/texlive/2013/texmf-dist/tex/context/base/supp-pdf.mkii\n",
      "[Loading MPS to PDF converter (version 2006.09.02).]\n",
      ") (/usr/local/texlive/2013/texmf-dist/tex/generic/oberdiek/pdftexcmds.sty\n",
      "(/usr/local/texlive/2013/texmf-dist/tex/generic/oberdiek/ifluatex.sty)\n",
      "(/usr/local/texlive/2013/texmf-dist/tex/generic/oberdiek/ifpdf.sty))\n",
      "(/usr/local/texlive/2013/texmf-dist/tex/latex/oberdiek/epstopdf-base.sty\n",
      "(/usr/local/texlive/2013/texmf-dist/tex/latex/oberdiek/grfext.sty\n",
      "(/usr/local/texlive/2013/texmf-dist/tex/generic/oberdiek/kvdefinekeys.sty))\n",
      "(/usr/local/texlive/2013/texmf-dist/tex/latex/oberdiek/kvoptions.sty\n",
      "(/usr/local/texlive/2013/texmf-dist/tex/generic/oberdiek/kvsetkeys.sty\n",
      "(/usr/local/texlive/2013/texmf-dist/tex/generic/oberdiek/etexcmds.sty)))\n",
      "(/usr/local/texlive/2013/texmf-dist/tex/latex/latexconfig/epstopdf-sys.cfg))\n",
      "[1{/usr/local/texlive/2013/texmf-var/fonts/map/pdftex/updmap/pdftex.map}]\n",
      "<wb1_mortality.pdf, id=9, 578.16pt x 397.485pt> <use wb1_mortality.pdf>\n",
      "[2 <./wb1_mortality.pdf>] (./wb1.aux) )</usr/local/texlive/2013/texmf-dist/font\n",
      "s/type1/public/amsfonts/cm/cmr10.pfb></usr/local/texlive/2013/texmf-dist/fonts/\n",
      "type1/public/amsfonts/cm/cmr12.pfb></usr/local/texlive/2013/texmf-dist/fonts/ty\n",
      "pe1/public/amsfonts/cm/cmssbx10.pfb>\n",
      "Output written on wb1.pdf (2 pages, 63201 bytes).\n",
      "Transcript written on wb1.log.\n"
     ]
    }
   ],
   "source": [
    "%%bash\n",
    "\n",
    "#use pandoc to convert section one to tex code from markdown\n",
    "# pandoc -f markdown -t latex section1.txt -o section1.tex \n",
    "\n",
    "#run the standard bibtex and pdflatex commands to generate your final pdf\n",
    "\n",
    "# bibtex test2\n",
    "pdflatex wb1.tex\n",
    "xdg-open wb1.pdf"
   ]
  },
  {
   "cell_type": "code",
   "execution_count": null,
   "metadata": {
    "collapsed": true
   },
   "outputs": [],
   "source": []
  }
 ],
 "metadata": {
  "kernelspec": {
   "display_name": "Python 2",
   "language": "python",
   "name": "python2"
  },
  "language_info": {
   "codemirror_mode": {
    "name": "ipython",
    "version": 2
   },
   "file_extension": ".py",
   "mimetype": "text/x-python",
   "name": "python",
   "nbconvert_exporter": "python",
   "pygments_lexer": "ipython2",
   "version": "2.7.10"
  }
 },
 "nbformat": 4,
 "nbformat_minor": 0
}
