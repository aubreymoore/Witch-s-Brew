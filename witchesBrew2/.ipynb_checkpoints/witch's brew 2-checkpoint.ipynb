{
 "cells": [
  {
   "cell_type": "markdown",
   "metadata": {},
   "source": [
    "## Libraries"
   ]
  },
  {
   "cell_type": "code",
   "execution_count": 10,
   "metadata": {
    "collapsed": false
   },
   "outputs": [],
   "source": [
    "%matplotlib inline\n",
    "\n",
    "import pandas as pd\n",
    "from pandasql import sqldf\n",
    "from matplotlib import pyplot as plt\n",
    "import seaborn as sns # improves appearance of matplotlib"
   ]
  },
  {
   "cell_type": "markdown",
   "metadata": {},
   "source": [
    "## Functions"
   ]
  },
  {
   "cell_type": "code",
   "execution_count": 11,
   "metadata": {
    "collapsed": true
   },
   "outputs": [],
   "source": [
    "def adjusted_mortality(p_exp, p_con):\n",
    "    \"\"\"\n",
    "    Treatment group mortality (p_exp) adjusted for experimental control group mortality (p_con)\n",
    "    using Abbott's formula.\n",
    "    \"\"\"\n",
    "    return ((p_exp - p_con) / (1.0 - p_con))"
   ]
  },
  {
   "cell_type": "markdown",
   "metadata": {},
   "source": [
    "## Get data"
   ]
  },
  {
   "cell_type": "code",
   "execution_count": 12,
   "metadata": {
    "collapsed": false
   },
   "outputs": [
    {
     "data": {
      "text/html": [
       "<div>\n",
       "<table border=\"1\" class=\"dataframe\">\n",
       "  <thead>\n",
       "    <tr style=\"text-align: right;\">\n",
       "      <th></th>\n",
       "      <th>beetle_id</th>\n",
       "      <th>obs_date</th>\n",
       "      <th>status</th>\n",
       "      <th>treatment</th>\n",
       "    </tr>\n",
       "  </thead>\n",
       "  <tbody>\n",
       "    <tr>\n",
       "      <th>115</th>\n",
       "      <td>61</td>\n",
       "      <td>2015-07-27</td>\n",
       "      <td>dead</td>\n",
       "      <td>v</td>\n",
       "    </tr>\n",
       "    <tr>\n",
       "      <th>116</th>\n",
       "      <td>62</td>\n",
       "      <td>2015-07-27</td>\n",
       "      <td>dead</td>\n",
       "      <td>v</td>\n",
       "    </tr>\n",
       "    <tr>\n",
       "      <th>117</th>\n",
       "      <td>63</td>\n",
       "      <td>2015-07-27</td>\n",
       "      <td>dead</td>\n",
       "      <td>v</td>\n",
       "    </tr>\n",
       "    <tr>\n",
       "      <th>118</th>\n",
       "      <td>64</td>\n",
       "      <td>2015-07-27</td>\n",
       "      <td>dead</td>\n",
       "      <td>v</td>\n",
       "    </tr>\n",
       "    <tr>\n",
       "      <th>119</th>\n",
       "      <td>65</td>\n",
       "      <td>2015-07-27</td>\n",
       "      <td>dead</td>\n",
       "      <td>v</td>\n",
       "    </tr>\n",
       "  </tbody>\n",
       "</table>\n",
       "</div>"
      ],
      "text/plain": [
       "     beetle_id   obs_date status treatment\n",
       "115         61 2015-07-27   dead         v\n",
       "116         62 2015-07-27   dead         v\n",
       "117         63 2015-07-27   dead         v\n",
       "118         64 2015-07-27   dead         v\n",
       "119         65 2015-07-27   dead         v"
      ]
     },
     "execution_count": 12,
     "metadata": {},
     "output_type": "execute_result"
    }
   ],
   "source": [
    "#df = pd.read_excel('wb2.xls', parse_dates=True)\n",
    "df = pd.read_excel('wb2.xls')\n",
    "df.columns = ['beetle_id','obs_date','status','treatment']\n",
    "df.tail()"
   ]
  },
  {
   "cell_type": "markdown",
   "metadata": {},
   "source": [
    "## Analysis"
   ]
  },
  {
   "cell_type": "code",
   "execution_count": 13,
   "metadata": {
    "collapsed": false
   },
   "outputs": [
    {
     "name": "stdout",
     "output_type": "stream",
     "text": [
      "N control:  59\n",
      "N virus:  61\n",
      "control alive:  31\n",
      "control dead:  28\n",
      "virus alive:  15\n",
      "virus dead:  46\n"
     ]
    }
   ],
   "source": [
    "control_total = len(df[df.treatment=='c'])\n",
    "virus_total = len(df[df.treatment=='v'])\n",
    "print('N control: ', control_total)\n",
    "print('N virus: ', virus_total)\n",
    "c_alive = len(df[(df.treatment=='c') & (df.status=='alive')])\n",
    "c_dead = len(df[(df.treatment=='c') & (df.status=='dead')])\n",
    "v_alive = len(df[(df.treatment=='v') & (df.status=='alive')])\n",
    "v_dead = len(df[(df.treatment=='v') & (df.status=='dead')])\n",
    "print('control alive: ', c_alive)\n",
    "print('control dead: ', c_dead)\n",
    "print('virus alive: ', v_alive)\n",
    "print('virus dead: ', v_dead)"
   ]
  },
  {
   "cell_type": "code",
   "execution_count": 14,
   "metadata": {
    "collapsed": false
   },
   "outputs": [
    {
     "data": {
      "text/html": [
       "<div>\n",
       "<table border=\"1\" class=\"dataframe\">\n",
       "  <thead>\n",
       "    <tr style=\"text-align: right;\">\n",
       "      <th></th>\n",
       "      <th>mortality</th>\n",
       "      <th>obs_date</th>\n",
       "      <th>cumulative_mortality</th>\n",
       "    </tr>\n",
       "  </thead>\n",
       "  <tbody>\n",
       "    <tr>\n",
       "      <th>-1</th>\n",
       "      <td>0.000000</td>\n",
       "      <td>2015-06-29</td>\n",
       "      <td>0.000000</td>\n",
       "    </tr>\n",
       "    <tr>\n",
       "      <th>0</th>\n",
       "      <td>0.135593</td>\n",
       "      <td>2015-07-06</td>\n",
       "      <td>0.135593</td>\n",
       "    </tr>\n",
       "    <tr>\n",
       "      <th>1</th>\n",
       "      <td>0.067797</td>\n",
       "      <td>2015-07-14</td>\n",
       "      <td>0.203390</td>\n",
       "    </tr>\n",
       "    <tr>\n",
       "      <th>2</th>\n",
       "      <td>0.101695</td>\n",
       "      <td>2015-07-20</td>\n",
       "      <td>0.305085</td>\n",
       "    </tr>\n",
       "    <tr>\n",
       "      <th>3</th>\n",
       "      <td>0.067797</td>\n",
       "      <td>2015-07-23</td>\n",
       "      <td>0.372881</td>\n",
       "    </tr>\n",
       "    <tr>\n",
       "      <th>4</th>\n",
       "      <td>0.101695</td>\n",
       "      <td>2015-07-27</td>\n",
       "      <td>0.474576</td>\n",
       "    </tr>\n",
       "  </tbody>\n",
       "</table>\n",
       "</div>"
      ],
      "text/plain": [
       "    mortality   obs_date  cumulative_mortality\n",
       "-1   0.000000 2015-06-29              0.000000\n",
       " 0   0.135593 2015-07-06              0.135593\n",
       " 1   0.067797 2015-07-14              0.203390\n",
       " 2   0.101695 2015-07-20              0.305085\n",
       " 3   0.067797 2015-07-23              0.372881\n",
       " 4   0.101695 2015-07-27              0.474576"
      ]
     },
     "execution_count": 14,
     "metadata": {},
     "output_type": "execute_result"
    }
   ],
   "source": [
    "df_control = pd.DataFrame({'obs_date': '2015-06-29', 'mortality': 0.0}, \n",
    "                          index=[-1])\n",
    "df_temp = sqldf(\"\"\"\n",
    "     SELECT obs_date, COUNT(beetle_id) AS mortality\n",
    "     FROM df \n",
    "     WHERE status = 'dead' and treatment = 'c'\n",
    "     GROUP BY obs_date \n",
    "     ORDER BY obs_date;\"\"\", globals())\n",
    "df_control = df_control.append(df_temp)\n",
    "df_control.mortality = df_control.mortality / (1.0 * control_total)\n",
    "df_control['cumulative_mortality'] = df_control.mortality.cumsum()\n",
    "df_control['obs_date'] = pd.to_datetime(df_control['obs_date'])\n",
    "df_control"
   ]
  },
  {
   "cell_type": "code",
   "execution_count": 15,
   "metadata": {
    "collapsed": false
   },
   "outputs": [
    {
     "data": {
      "text/html": [
       "<div>\n",
       "<table border=\"1\" class=\"dataframe\">\n",
       "  <thead>\n",
       "    <tr style=\"text-align: right;\">\n",
       "      <th></th>\n",
       "      <th>mortality</th>\n",
       "      <th>obs_date</th>\n",
       "      <th>cumulative_mortality</th>\n",
       "    </tr>\n",
       "  </thead>\n",
       "  <tbody>\n",
       "    <tr>\n",
       "      <th>-1</th>\n",
       "      <td>0.000000</td>\n",
       "      <td>2015-06-29</td>\n",
       "      <td>0.000000</td>\n",
       "    </tr>\n",
       "    <tr>\n",
       "      <th>0</th>\n",
       "      <td>0.163934</td>\n",
       "      <td>2015-07-06</td>\n",
       "      <td>0.163934</td>\n",
       "    </tr>\n",
       "    <tr>\n",
       "      <th>1</th>\n",
       "      <td>0.409836</td>\n",
       "      <td>2015-07-14</td>\n",
       "      <td>0.573770</td>\n",
       "    </tr>\n",
       "    <tr>\n",
       "      <th>2</th>\n",
       "      <td>0.032787</td>\n",
       "      <td>2015-07-20</td>\n",
       "      <td>0.606557</td>\n",
       "    </tr>\n",
       "    <tr>\n",
       "      <th>3</th>\n",
       "      <td>0.016393</td>\n",
       "      <td>2015-07-23</td>\n",
       "      <td>0.622951</td>\n",
       "    </tr>\n",
       "    <tr>\n",
       "      <th>4</th>\n",
       "      <td>0.131148</td>\n",
       "      <td>2015-07-27</td>\n",
       "      <td>0.754098</td>\n",
       "    </tr>\n",
       "  </tbody>\n",
       "</table>\n",
       "</div>"
      ],
      "text/plain": [
       "    mortality   obs_date  cumulative_mortality\n",
       "-1   0.000000 2015-06-29              0.000000\n",
       " 0   0.163934 2015-07-06              0.163934\n",
       " 1   0.409836 2015-07-14              0.573770\n",
       " 2   0.032787 2015-07-20              0.606557\n",
       " 3   0.016393 2015-07-23              0.622951\n",
       " 4   0.131148 2015-07-27              0.754098"
      ]
     },
     "execution_count": 15,
     "metadata": {},
     "output_type": "execute_result"
    }
   ],
   "source": [
    "df_virus = pd.DataFrame({'obs_date': '2015-06-29', 'mortality': 0.0}, index=[-1])\n",
    "df_temp = sqldf(\"\"\"\n",
    "     SELECT obs_date, COUNT(beetle_id) AS mortality\n",
    "     FROM df \n",
    "     WHERE status = 'dead' and treatment = 'v'\n",
    "     GROUP BY obs_date \n",
    "     ORDER BY obs_date;\"\"\", globals())\n",
    "df_virus = df_virus.append(df_temp)\n",
    "df_virus.mortality = df_virus.mortality / (1.0 * virus_total)\n",
    "df_virus['cumulative_mortality'] = df_virus.mortality.cumsum()\n",
    "df_virus['obs_date'] = pd.to_datetime(df_virus['obs_date'])\n",
    "df_virus"
   ]
  },
  {
   "cell_type": "code",
   "execution_count": 16,
   "metadata": {
    "collapsed": false
   },
   "outputs": [
    {
     "name": "stdout",
     "output_type": "stream",
     "text": [
      "Observed mortality in virus treatment:   0.754\n",
      "Observed mortality in control treatment: 0.475\n",
      "Adjusted mortality in virus treatment:   0.532\n"
     ]
    }
   ],
   "source": [
    "p_virus = df_virus.iloc[-1].cumulative_mortality\n",
    "p_control = df_control.iloc[-1].cumulative_mortality\n",
    "\n",
    "print('Observed mortality in virus treatment:   {0:.3f}'.format(p_virus))\n",
    "print('Observed mortality in control treatment: {0:.3f}'.format(p_control))\n",
    "print('Adjusted mortality in virus treatment:   {0:.3f}'\n",
    "      .format(adjusted_mortality(p_virus, p_control))) "
   ]
  },
  {
   "cell_type": "code",
   "execution_count": 17,
   "metadata": {
    "collapsed": false
   },
   "outputs": [
    {
     "data": {
      "text/plain": [
       "\"\\n    Mortality of virus-treated beetles (0.75) is significantly greater than that of control beetles (0.47);\\n    p = 0.0014; Fisher's exact test.\\n    \""
      ]
     },
     "execution_count": 17,
     "metadata": {},
     "output_type": "execute_result"
    }
   ],
   "source": [
    "from scipy.stats import fisher_exact\n",
    "from __future__ import division\n",
    "\n",
    "def fishers_test(virus_dead, virus_alive, control_dead, control_alive):\n",
    "    virus_total = virus_dead + virus_alive\n",
    "    control_total = control_dead + control_alive\n",
    "    oddsratio, pvalue = fisher_exact([[virus_dead, virus_alive], [control_dead, control_alive]], alternative='greater')\n",
    "    msg = '''\n",
    "    Mortality of virus-treated beetles (%.2f) is significantly greater than that of control beetles (%.2f);\n",
    "    p = %.4f; Fisher's exact test.\n",
    "    ''' % (virus_dead/virus_total, control_dead/control_total, pvalue)\n",
    "    return msg\n",
    "\n",
    "fishers_test(v_dead, v_alive, c_dead, c_alive)"
   ]
  },
  {
   "cell_type": "code",
   "execution_count": 18,
   "metadata": {
    "collapsed": false
   },
   "outputs": [
    {
     "data": {
      "image/png": "[encoded data removed]",
      "text/plain": [
       "<matplotlib.figure.Figure at 0x7fb2f0965550>"
      ]
     },
     "metadata": {},
     "output_type": "display_data"
    }
   ],
   "source": [
    "fig, ax = plt.subplots(1)\n",
    "#ax.plot(r.date, r.close)\n",
    "ax.plot(df_virus.obs_date, df_virus.cumulative_mortality, \n",
    "         label='virus', color='red')\n",
    "ax.plot(df_control.obs_date, df_control.cumulative_mortality, \n",
    "         label='control', color='green')\n",
    "\n",
    "# rotate and align the tick labels so they look better\n",
    "fig.autofmt_xdate()\n",
    "import matplotlib.dates as mdates\n",
    "ax.fmt_xdata = mdates.DateFormatter('%Y-%m-%d')\n",
    "ax.set_ylim(0,1)\n",
    "ax.legend()\n",
    "ax.set_ylabel('proportion dead')\n",
    "ax.set_xlabel('observation date')\n",
    "fig.savefig('wb2_mortality.pdf')"
   ]
  },
  {
   "cell_type": "markdown",
   "metadata": {},
   "source": [
    "## Write the Technical Report using Latex markup and save to a file"
   ]
  },
  {
   "cell_type": "code",
   "execution_count": 19,
   "metadata": {
    "collapsed": false
   },
   "outputs": [
    {
     "name": "stdout",
     "output_type": "stream",
     "text": [
      "Overwriting wb2.tex\n"
     ]
    }
   ],
   "source": [
    "%%writefile wb2.tex\n",
    "\n",
    "\\documentclass[letterpaper,11pt]{scrartcl}\n",
    "\\usepackage{graphicx}\n",
    "\\usepackage{fullpage}\n",
    "\n",
    "\\titlehead{Guam Coconut Rhinoceros Project Technical Report}\n",
    "\\title{OrNV Witch's Brew Experiment 2: A Last Ditch Attempt to Find Virus Pathogenetic for the Guam Coconut\n",
    "Rhinoceros Beetle Genotype}\n",
    "\\author{Aubrey Moore, Ian Iriarte and Roland Quitugua}\n",
    "\n",
    "\\begin{document}\n",
    "\n",
    "\\maketitle\n",
    "\n",
    "\\begin{abstract}\n",
    "In this experiment, we made a 'witch's brew' using frozen beetles which died in the 'Witch's Brew 1' bioassay. \n",
    "Sixty-one adult beetles were forced to swim in the slurry for 30 minutes on June 29, 2015. A control group of\n",
    "59 beetles were forced to swim in water. Beetles were checked weekly.\n",
    "\n",
    "By July 27, 2015, mortality of the virus treated beetles (75\\%) was significantly greater than that of the\n",
    "control group (48\\%). Treatment mortality corrected for experimental control mortality by Abbott's \n",
    "formula was 53\\%.\n",
    "\n",
    "Beetles which died in this experiment were preserved and these will be tested for virus if and when additional funding becomes available.\n",
    "\\end{abstract}\n",
    "\n",
    "\\section*{Methods}\n",
    "\n",
    "Frozen, dead beetles from previous bioassays were added to one liter of water and made into an aqueous slurry\n",
    "using a blender. Vials containing remnants of virus samples from AgResearch New Zealand were agitated in 500 ml of \n",
    "water, and this suspension was added to the blender. The slurry was poured into a small pail and\n",
    "forty beetles were made to swim in this for thirty minutes. A control group of beetles was made to swim in water for \n",
    "thirty minutes.\n",
    "\n",
    "Beetles were kept in a large container filled with moist, commercially blended steer manure and soil. \n",
    "All beetles were checked weekly. Dead beetles were recorded and frozen.\n",
    "\n",
    "\\section*{Analysis}\n",
    "\n",
    "Data were analyzed using an IPython notebook (file name = 'witch's brew 2.ipynb'). Significance of differences in mortality\n",
    "were determined using a Fisher's exact test, and final mortality was adjusted using Abbott's formula.\n",
    "\n",
    "\\section*{Results and Discussion}\n",
    "\n",
    "Cumulative mortality of virus-treated beetles (75\\%) on April 27 (Fig. \\ref{mortality}) was significantly greater than that of \n",
    "control beetles (48\\%); (p = 0.0014; Fisher's exact test). Treatment mortality corrected for experimental control mortality by Abbott's \n",
    "formula was 53\\%.\n",
    "\n",
    "% FIGURES HERE \n",
    "%%%%%%%%%%%%%%\n",
    " \n",
    "\\begin{figure}\n",
    "\\centering\n",
    "\\includegraphics[width = \\textwidth]{wb2_mortality.pdf}\n",
    "\\caption{Cumulative mortality.}\n",
    "\\label{mortality}\n",
    "\\end{figure} \n",
    " \n",
    "% END OF FIGURES\n",
    "%%%%%%%%%%%%%%%%\n",
    " \n",
    "%\\nocite{PER-GRA_2007}\n",
    "%\\bibliographystyle{unsrt}\n",
    "%\\bibliography{ref}\n",
    "\n",
    "\\end{document}"
   ]
  },
  {
   "cell_type": "code",
   "execution_count": 20,
   "metadata": {
    "collapsed": true
   },
   "outputs": [],
   "source": [
    "## Generate a PDF version of the Tech Report and display it"
   ]
  },
  {
   "cell_type": "code",
   "execution_count": 21,
   "metadata": {
    "collapsed": false,
    "scrolled": true
   },
   "outputs": [
    {
     "name": "stdout",
     "output_type": "stream",
     "text": [
      "This is pdfTeX, Version 3.1415926-2.5-1.40.14 (TeX Live 2013/Debian)\n",
      " restricted \\write18 enabled.\n",
      "entering extended mode\n",
      "(./wb2.tex\n",
      "LaTeX2e <2011/06/27>\n",
      "Babel <3.9h> and hyphenation patterns for 78 languages loaded.\n",
      "(/usr/share/texlive/texmf-dist/tex/latex/koma-script/scrartcl.cls\n",
      "Document Class: scrartcl 2013/12/19 v3.12 KOMA-Script document class (article)\n",
      "(/usr/share/texlive/texmf-dist/tex/latex/koma-script/scrkbase.sty\n",
      "(/usr/share/texlive/texmf-dist/tex/latex/koma-script/scrbase.sty\n",
      "(/usr/share/texlive/texmf-dist/tex/latex/graphics/keyval.sty)\n",
      "(/usr/share/texlive/texmf-dist/tex/latex/koma-script/scrlfile.sty\n",
      "Package scrlfile, 2013/12/19 v3.12 KOMA-Script package (loading files)\n",
      "                  Copyright (C) Markus Kohm\n",
      "\n",
      "))) (/usr/share/texlive/texmf-dist/tex/latex/koma-script/tocbasic.sty)\n",
      "(/usr/share/texlive/texmf-dist/tex/latex/koma-script/scrsize11pt.clo)\n",
      "(/usr/share/texlive/texmf-dist/tex/latex/koma-script/typearea.sty\n",
      "Package typearea, 2013/12/19 v3.12 KOMA-Script package (type area)\n",
      "                  Copyright (C) Frank Neukam, 1992-1994\n",
      "                  Copyright (C) Markus Kohm, 1994-\n",
      "\n",
      ")) (/usr/share/texlive/texmf-dist/tex/latex/graphics/graphicx.sty\n",
      "(/usr/share/texlive/texmf-dist/tex/latex/graphics/graphics.sty\n",
      "(/usr/share/texlive/texmf-dist/tex/latex/graphics/trig.sty)\n",
      "(/usr/share/texlive/texmf-dist/tex/latex/latexconfig/graphics.cfg)\n",
      "(/usr/share/texlive/texmf-dist/tex/latex/pdftex-def/pdftex.def\n",
      "(/usr/share/texlive/texmf-dist/tex/generic/oberdiek/infwarerr.sty)\n",
      "(/usr/share/texlive/texmf-dist/tex/generic/oberdiek/ltxcmds.sty))))\n",
      "(/usr/share/texlive/texmf-dist/tex/latex/preprint/fullpage.sty) (./wb2.aux)\n",
      "(/usr/share/texlive/texmf-dist/tex/context/base/supp-pdf.mkii\n",
      "[Loading MPS to PDF converter (version 2006.09.02).]\n",
      ") (/usr/share/texlive/texmf-dist/tex/generic/oberdiek/pdftexcmds.sty\n",
      "(/usr/share/texlive/texmf-dist/tex/generic/oberdiek/ifluatex.sty)\n",
      "(/usr/share/texlive/texmf-dist/tex/generic/oberdiek/ifpdf.sty))\n",
      "(/usr/share/texlive/texmf-dist/tex/latex/oberdiek/epstopdf-base.sty\n",
      "(/usr/share/texlive/texmf-dist/tex/latex/oberdiek/grfext.sty\n",
      "(/usr/share/texlive/texmf-dist/tex/generic/oberdiek/kvdefinekeys.sty))\n",
      "(/usr/share/texlive/texmf-dist/tex/latex/oberdiek/kvoptions.sty\n",
      "(/usr/share/texlive/texmf-dist/tex/generic/oberdiek/kvsetkeys.sty\n",
      "(/usr/share/texlive/texmf-dist/tex/generic/oberdiek/etexcmds.sty)))\n",
      "(/usr/share/texlive/texmf-dist/tex/latex/latexconfig/epstopdf-sys.cfg))\n",
      "[1{/var/lib/texmf/fonts/map/pdftex/updmap/pdftex.map}]\n",
      "<wb2_mortality.pdf, id=9, 433.62pt x 289.08pt> <use wb2_mortality.pdf> [2 <./wb\n",
      "2_mortality.pdf>] (./wb2.aux) )</usr/share/texlive/texmf-dist/fonts/type1/publi\n",
      "c/amsfonts/cm/cmr10.pfb></usr/share/texlive/texmf-dist/fonts/type1/public/amsfo\n",
      "nts/cm/cmr12.pfb></usr/share/texlive/texmf-dist/fonts/type1/public/amsfonts/cm/\n",
      "cmssbx10.pfb>\n",
      "Output written on wb2.pdf (2 pages, 62991 bytes).\n",
      "Transcript written on wb2.log.\n"
     ]
    }
   ],
   "source": [
    "%%bash\n",
    "\n",
    "#use pandoc to convert section one to tex code from markdown\n",
    "# pandoc -f markdown -t latex section1.txt -o section1.tex \n",
    "\n",
    "#run the standard bibtex and pdflatex commands to generate your final pdf\n",
    "\n",
    "# bibtex test2\n",
    "pdflatex wb2.tex\n",
    "xdg-open wb2.pdf"
   ]
  },
  {
   "cell_type": "code",
   "execution_count": null,
   "metadata": {
    "collapsed": true
   },
   "outputs": [],
   "source": []
  }
 ],
 "metadata": {
  "anaconda-cloud": {},
  "kernelspec": {
   "display_name": "Python [Root]",
   "language": "python",
   "name": "Python [Root]"
  },
  "language_info": {
   "codemirror_mode": {
    "name": "ipython",
    "version": 3
   },
   "file_extension": ".py",
   "mimetype": "text/x-python",
   "name": "python",
   "nbconvert_exporter": "python",
   "pygments_lexer": "ipython3",
   "version": "3.5.2"
  }
 },
 "nbformat": 4,
 "nbformat_minor": 0
}
